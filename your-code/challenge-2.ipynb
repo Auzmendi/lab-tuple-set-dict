{
 "cells": [
  {
   "cell_type": "markdown",
   "metadata": {},
   "source": [
    "## Challenge 2: Sets\n",
    "\n",
    "There are a lot to learn about Python Sets and the information presented in the lesson is limited due to its length. To learn Python Sets in depth you are strongly encouraged to review the W3Schools tutorial on [Python Sets Examples and Methods](https://www.w3schools.com/python/python_sets.asp) before you work on this lab. Some difficult questions in this lab have their solutions in the W3Schools tutorial.\n",
    "\n",
    "#### First, import the Python `random` libary"
   ]
  },
  {
   "cell_type": "code",
   "execution_count": 107,
   "metadata": {},
   "outputs": [],
   "source": [
    "import random"
   ]
  },
  {
   "cell_type": "markdown",
   "metadata": {},
   "source": [
    "#### 1 - In the cell below, create a list named `sample_list_1` with 80 random values. \n",
    "\n",
    "Requirements:\n",
    "\n",
    "* Each value is an integer falling between 0 and 100.\n",
    "* Each value in the list is unique.\n",
    "\n",
    "Print `sample_list_1` to review its values\n",
    "\n",
    "*Hint: use `random.sample` ([reference](https://docs.python.org/3/library/random.html#random.sample)).*"
   ]
  },
  {
   "cell_type": "code",
   "execution_count": 108,
   "metadata": {},
   "outputs": [
    {
     "name": "stdout",
     "output_type": "stream",
     "text": [
      "[72, 67, 32, 86, 70, 68, 4, 48, 8, 52, 36, 61, 39, 66, 80, 75, 2, 73, 90, 64, 37, 28, 51, 89, 29, 62, 24, 69, 98, 42, 12, 6, 54, 65, 49, 53, 13, 14, 20, 91, 81, 100, 94, 50, 17, 55, 34, 78, 46, 47, 11, 83, 99, 22, 25, 18, 16, 77, 41, 44, 58, 97, 7, 74, 92, 85, 9, 40, 43, 76, 82, 57, 3, 23, 26, 71, 15, 79, 95, 33]\n",
      "<class 'list'>\n"
     ]
    }
   ],
   "source": [
    "# Your code here\n",
    "\n",
    "sample_list_1 = random.sample(range(101),80)\n",
    "\n",
    "print(sample_list_1)\n",
    "print(type(sample_list_1))"
   ]
  },
  {
   "cell_type": "markdown",
   "metadata": {},
   "source": [
    "#### 2 - Convert `sample_list_1` to a set called `set1`. Print the length of the set. Is its length still 80?"
   ]
  },
  {
   "cell_type": "code",
   "execution_count": 109,
   "metadata": {},
   "outputs": [
    {
     "name": "stdout",
     "output_type": "stream",
     "text": [
      "<class 'set'>\n",
      "80\n"
     ]
    }
   ],
   "source": [
    "# Your code here\n",
    "set1=set((sample_list_1))\n",
    "\n",
    "\n",
    "print(type(set1))\n",
    "print(len(set1))\n",
    "\n",
    "#Yes. The length hasn´t changed"
   ]
  },
  {
   "cell_type": "markdown",
   "metadata": {},
   "source": [
    "#### 3 - Create another list named `sample_list_2` with 80 random values.\n",
    "\n",
    "Requirements:\n",
    "\n",
    "* Each value is an integer falling between 0 and 100.\n",
    "* The values in the list don't have to be unique.\n",
    "\n",
    "*Hint: Use a FOR loop.*"
   ]
  },
  {
   "cell_type": "code",
   "execution_count": 110,
   "metadata": {},
   "outputs": [
    {
     "name": "stdout",
     "output_type": "stream",
     "text": [
      "[94, 40, 52, 80, 85, 87, 58, 57, 86, 41, 56, 68, 46, 92, 76, 4, 9, 23, 7, 66, 14, 45, 37, 6, 79, 77, 51, 28, 96, 64, 72, 50, 1, 26, 61, 22, 57, 101, 26, 43, 92, 55, 57, 40, 46, 71, 37, 101, 0, 32, 57, 83, 79, 92, 9, 20, 23, 65, 76, 22, 9, 86, 75, 30, 1, 89, 64, 43, 70, 6, 88, 52, 3, 66, 14, 71, 81, 82, 28, 40]\n"
     ]
    }
   ],
   "source": [
    "# Your code here\n",
    "sample_list_2=[]\n",
    "\n",
    "[sample_list_2.append(random.randint(0,101)) for i in range(80)]\n",
    "    \n",
    "print(sample_list_2)"
   ]
  },
  {
   "cell_type": "markdown",
   "metadata": {},
   "source": [
    "#### 4 - Convert `sample_list_2` to a set called `set2`. Print the length of the set. Is its length still 80?"
   ]
  },
  {
   "cell_type": "code",
   "execution_count": 111,
   "metadata": {},
   "outputs": [
    {
     "name": "stdout",
     "output_type": "stream",
     "text": [
      "53\n"
     ]
    }
   ],
   "source": [
    "# Your code here\n",
    "set2=set(sample_list_2)\n",
    "print(len(set2))\n",
    "#No. The lenght is not 80 anymore because in a set, the values have to be uniques"
   ]
  },
  {
   "cell_type": "markdown",
   "metadata": {},
   "source": [
    "#### 5 - Identify the elements present in `set1` but not in `set2`. Assign the elements to a new set named `set3`."
   ]
  },
  {
   "cell_type": "code",
   "execution_count": 112,
   "metadata": {},
   "outputs": [
    {
     "name": "stdout",
     "output_type": "stream",
     "text": [
      "80\n",
      "53\n",
      "36\n"
     ]
    }
   ],
   "source": [
    "# Your code here\n",
    "set3=set1-set2\n",
    "\n",
    "print(len(set1))\n",
    "print(len(set2))\n",
    "print(len(set3))\n"
   ]
  },
  {
   "cell_type": "markdown",
   "metadata": {},
   "source": [
    "#### 6 - Identify the elements present in `set2` but not in `set1`. Assign the elements to a new set named `set4`."
   ]
  },
  {
   "cell_type": "code",
   "execution_count": 113,
   "metadata": {},
   "outputs": [
    {
     "name": "stdout",
     "output_type": "stream",
     "text": [
      "{0, 1, 96, 101, 45, 87, 56, 88, 30}\n",
      "9\n"
     ]
    }
   ],
   "source": [
    "# Your code here\n",
    "set4=set2-set1\n",
    "print(set4)\n",
    "print(len(set4))"
   ]
  },
  {
   "cell_type": "markdown",
   "metadata": {},
   "source": [
    "#### 7 - Now Identify the elements shared between `set1` and `set2`. Assign the elements to a new set named `set5`."
   ]
  },
  {
   "cell_type": "code",
   "execution_count": 114,
   "metadata": {},
   "outputs": [
    {
     "name": "stdout",
     "output_type": "stream",
     "text": [
      "44\n"
     ]
    }
   ],
   "source": [
    "# Your code here\n",
    "set5=set1-set3\n",
    "print(len(set5))"
   ]
  },
  {
   "cell_type": "markdown",
   "metadata": {},
   "source": [
    "#### 8 - Create an empty set called `set6`."
   ]
  },
  {
   "cell_type": "code",
   "execution_count": 115,
   "metadata": {},
   "outputs": [
    {
     "name": "stdout",
     "output_type": "stream",
     "text": [
      "set()\n"
     ]
    }
   ],
   "source": [
    "# Your code here\n",
    "list_6=[]\n",
    "set6=set((list_6))\n",
    "print(set6)"
   ]
  },
  {
   "cell_type": "markdown",
   "metadata": {},
   "source": [
    "#### 9 - Add `set3` and `set5` to `set6` using the Python Set `update` method."
   ]
  },
  {
   "cell_type": "code",
   "execution_count": 116,
   "metadata": {},
   "outputs": [
    {
     "name": "stdout",
     "output_type": "stream",
     "text": [
      "{2, 3, 4, 6, 7, 8, 9, 11, 12, 13, 14, 15, 16, 17, 18, 20, 22, 23, 24, 25, 26, 28, 29, 32, 33, 34, 36, 37, 39, 40, 41, 42, 43, 44, 46, 47, 48, 49, 50, 51, 52, 53, 54, 55, 57, 58, 61, 62, 64, 65, 66, 67, 68, 69, 70, 71, 72, 73, 74, 75, 76, 77, 78, 79, 80, 81, 82, 83, 85, 86, 89, 90, 91, 92, 94, 95, 97, 98, 99, 100}\n",
      "80\n"
     ]
    }
   ],
   "source": [
    "# Your code here\n",
    "set6.update(set3)\n",
    "set6.update(set5)\n",
    "print(set6)\n",
    "print(len(set6))"
   ]
  },
  {
   "cell_type": "markdown",
   "metadata": {},
   "source": [
    "#### 10 - Check if `set1` and `set6` are equal."
   ]
  },
  {
   "cell_type": "code",
   "execution_count": 117,
   "metadata": {},
   "outputs": [
    {
     "name": "stdout",
     "output_type": "stream",
     "text": [
      "80\n",
      "80\n",
      "set1 and set6 are equal\n"
     ]
    }
   ],
   "source": [
    "# Your code here\n",
    "equal=True\n",
    "print(len(set1))\n",
    "print(len(set6))\n",
    "count=0\n",
    "for element in set1:\n",
    "    if element in set6:\n",
    "        count+=1\n",
    "if count<len(set1):\n",
    "    print(\"set1 and set6 are not equal\")\n",
    "else:\n",
    "    print(\"set1 and set6 are equal\")\n"
   ]
  },
  {
   "cell_type": "markdown",
   "metadata": {},
   "source": [
    "#### 11 - Check if `set1` contains `set2` using the Python Set `issubset` method. Then check if `set1` contains `set3`.*"
   ]
  },
  {
   "cell_type": "code",
   "execution_count": 118,
   "metadata": {},
   "outputs": [
    {
     "name": "stdout",
     "output_type": "stream",
     "text": [
      "False\n",
      "True\n"
     ]
    }
   ],
   "source": [
    "# Your code here\n",
    "print(set2.issubset(set1))\n",
    "print(set3.issubset(set1))"
   ]
  },
  {
   "cell_type": "markdown",
   "metadata": {},
   "source": [
    "#### 12 -Using the Python Set `union` method, aggregate `set3`, `set4`, and `set5`. Then aggregate `set1` and `set2`. \n",
    "\n",
    "#### Check if the aggregated values are equal."
   ]
  },
  {
   "cell_type": "code",
   "execution_count": 119,
   "metadata": {},
   "outputs": [
    {
     "name": "stdout",
     "output_type": "stream",
     "text": [
      "89\n",
      "89\n",
      "set1 and set3 are equal\n"
     ]
    }
   ],
   "source": [
    "# Your code here\n",
    "set3=set3.union(set4)\n",
    "set3=set3.union(set5)\n",
    "print(len(set3))\n",
    "set1=set1.union(set2)\n",
    "print(len(set1))\n",
    "\n",
    "count=0\n",
    "for element in set1:\n",
    "    if element in set3:\n",
    "        count+=1\n",
    "if count<len(set1):\n",
    "    print(\"set1 and set3 are not equal\")\n",
    "else:\n",
    "    print(\"set1 and set3 are equal\")"
   ]
  },
  {
   "cell_type": "markdown",
   "metadata": {},
   "source": [
    "#### 13 -Using the `pop` method, remove the first element from `set1`."
   ]
  },
  {
   "cell_type": "code",
   "execution_count": 120,
   "metadata": {},
   "outputs": [
    {
     "name": "stdout",
     "output_type": "stream",
     "text": [
      "0\n",
      "88\n"
     ]
    }
   ],
   "source": [
    "# Your code here\n",
    "#Is nto possible to choose which element is going to be removed becaused set are unordered.\n",
    "# 88 elements because I run the code twice...\n",
    "print(set1.pop())\n",
    "print(len(set1))"
   ]
  },
  {
   "cell_type": "markdown",
   "metadata": {},
   "source": [
    "#### 14 -Remove every element in the following list from `set1` if they are present in the set. Print the remaining elements.\n",
    "\n",
    "```\n",
    "list_to_remove = [1, 9, 11, 19, 21, 29, 31, 39, 41, 49, 51, 59, 61, 69, 71, 79, 81, 89, 91, 99]\n",
    "```"
   ]
  },
  {
   "cell_type": "code",
   "execution_count": 122,
   "metadata": {},
   "outputs": [
    {
     "name": "stdout",
     "output_type": "stream",
     "text": [
      "{2, 3, 4, 6, 7, 8, 12, 13, 14, 15, 16, 17, 18, 20, 22, 23, 24, 25, 26, 28, 30, 32, 33, 34, 36, 37, 40, 42, 43, 44, 45, 46, 47, 48, 50, 52, 53, 54, 55, 56, 57, 58, 62, 64, 65, 66, 67, 68, 70, 72, 73, 74, 75, 76, 77, 78, 80, 82, 83, 85, 86, 87, 88, 90, 92, 94, 95, 96, 97, 98, 100, 101}\n",
      "72\n"
     ]
    }
   ],
   "source": [
    "# Your code here\n",
    "list_to_remove = [1, 9, 11, 19, 21, 29, 31, 39, 41, 49, 51, 59, 61, 69, 71, 79, 81, 89, 91, 99]\n",
    "for element in list_to_remove:\n",
    "    set1.discard(element)\n",
    "print(set1)\n",
    "print(len(set1))"
   ]
  },
  {
   "cell_type": "markdown",
   "metadata": {},
   "source": [
    "#### 15 -The objective of this lab is to provide you a overview of manipulating sets in Python and how they can be integrated within a real usecase\n",
    "#### For the exercises below it's strongly advised to quickly check this link: https://docs.python.org/2/library/sets.html#sets.Set\n",
    "#### Imagine you need to create the grocery list for your family! Below you will see a list of items each family member wants. There will be repetitions because this family has the habbit of each time they notice something is missing to write it down. The problem is that they don't really talk to each other and therefore some items in the list are repeated. With the collection of questions below you will see how they solve repetion and create a grocery list with unique elements.\n",
    "\n"
   ]
  },
  {
   "cell_type": "code",
   "execution_count": 123,
   "metadata": {},
   "outputs": [],
   "source": [
    "father_list = ['garlic', 'watermelon', 'toilet paper', 'yogurt', 'onions', 'gums', 'flour', 'cucumber', 'watermelon', 'yogurt', 'garlic']\n",
    "\n",
    "mother_list = []\n",
    "\n",
    "Jo_list = ['blueberries', 'sugar', 'watermelon', 'gums', 'tomatoes', 'yogurt', 'juice', 'milk', 'onions', 'garlic', 'cucumber', 'sugar', 'blueberries', 'gums', 'yogurt']\n",
    "\n",
    "Carlos_list = ['tomatoes', 'water', 'onions', 'blueberries', 'garlic', 'flour', 'cherries', 'tomatoes', 'onions', 'water', 'tomatoes', 'toilet paper']\n",
    "\n",
    "Mattia_list = []\n",
    "\n",
    "\n"
   ]
  },
  {
   "cell_type": "markdown",
   "metadata": {},
   "source": [
    "#### 15.1- As you can see there are items repeated in each list. Creat a sequence of iterable elements with dintinct items that each family member wants. You can do it in two different ways. Assign each one (set) to a variable with the name of the family member (ex: father_set)."
   ]
  },
  {
   "cell_type": "code",
   "execution_count": 136,
   "metadata": {},
   "outputs": [
    {
     "name": "stdout",
     "output_type": "stream",
     "text": [
      "11\n",
      "8\n",
      "0\n",
      "0\n",
      "15\n",
      "11\n",
      "12\n",
      "8\n",
      "0\n",
      "0\n",
      "15\n"
     ]
    }
   ],
   "source": [
    "# Your code here\n",
    "\n",
    "#FATHER\n",
    "print(len(father_list))\n",
    "father_set=set ((father_list))\n",
    "print(len(father_set))\n",
    "\n",
    "#MOTHER\n",
    "print(len(mother_list))\n",
    "mother_set=set((mother_list))\n",
    "print(len(mother_set))\n",
    "\n",
    "#JO\n",
    "print(len(Jo_list))\n",
    "Jo_set=set((Jo_list))\n",
    "print(len(Jo_set))\n",
    "\n",
    "#CARLOS\n",
    "print(len(Carlos_list))\n",
    "Carlos_set=set((Carlos_list))\n",
    "print(len(Carlos_set))\n",
    "\n",
    "#MATTIA\n",
    "print(len(Mattia_list))\n",
    "Mattia_set=set((Mattia_list))\n",
    "print(len(Mattia_set))\n",
    "\n",
    "#FAMILY\n",
    "list=[]\n",
    "family_set=set((list))\n",
    "family_set=family_set.union(father_set)\n",
    "family_set=family_set.union(mother_set)\n",
    "family_set=family_set.union(Jo_set)\n",
    "family_set=family_set.union(Carlos_set)\n",
    "family_set=family_set.union(Mattia_set)\n",
    "print(len(family_set))"
   ]
  },
  {
   "cell_type": "markdown",
   "metadata": {},
   "source": [
    "#### 15.2- Q: Mattia wants the same items that his brother Carlos and his sister Jo but doesn't want anything they both want.\n",
    "\n",
    "##### Hint: check out the documentation for `x.symmetric_difference(y)`."
   ]
  },
  {
   "cell_type": "code",
   "execution_count": 137,
   "metadata": {},
   "outputs": [
    {
     "name": "stdout",
     "output_type": "stream",
     "text": [
      "{'flour', 'milk', 'cucumber', 'juice', 'sugar', 'toilet paper', 'water', 'yogurt', 'cherries', 'gums', 'watermelon'}\n"
     ]
    }
   ],
   "source": [
    "# Your code here\n",
    "for element in Carlos_set.symmetric_difference(Jo_set):\n",
    "    Mattia_set.add(element)\n",
    "print(Mattia_set)"
   ]
  },
  {
   "cell_type": "markdown",
   "metadata": {},
   "source": [
    "#### 15.3- The line of code below  will  generate a list of random elements from a collection of items, with replacement. Run it and from it create a sequence of unique elements and assign it to the variable mother.\n"
   ]
  },
  {
   "cell_type": "code",
   "execution_count": 140,
   "metadata": {},
   "outputs": [
    {
     "name": "stdout",
     "output_type": "stream",
     "text": [
      "['mushrooms', 'toilet paper', 'watermelon', 'gums', 'deodorant', 'mushrooms', 'watermelon', 'gums', 'vinegar', 'onions']\n"
     ]
    }
   ],
   "source": [
    "import random\n",
    "items = ['milk', 'water', 'chocolate', 'blueberries', 'shampoo', 'flour', 'bread', 'sugar', 'watermelon', 'vinegar', 'tomatoes', 'yogurt', 'juice', 'gums', 'onions', 'garlic', 'cucumber', 'mushrooms', 'toilet paper', 'oranges', 'deodorant', 'cherries']\n",
    "\n",
    "mother_list = random.choices(items,k = 10) # https://docs.python.org/3/library/random.html\n",
    "\n",
    "    \n",
    "print(mother_list)"
   ]
  },
  {
   "cell_type": "code",
   "execution_count": 141,
   "metadata": {},
   "outputs": [
    {
     "name": "stdout",
     "output_type": "stream",
     "text": [
      "{'gums', 'toilet paper', 'vinegar', 'mushrooms', 'onions', 'deodorant', 'watermelon'}\n"
     ]
    }
   ],
   "source": [
    "# Your code here\n",
    "mother=set((mother_list))\n",
    "print(mother)"
   ]
  },
  {
   "cell_type": "markdown",
   "metadata": {},
   "source": [
    "#### 15.4- Before leaving the house to the grocery store the father found a lot of toilet paper, so the mother decided to remove it from the items needed to be bought. Use the `.discard()` method to remove from each set created before the 'toilet paper'. \n",
    "\n",
    "#### Hint: Try to first create a list contaning the variables of each set created before, then loop through them and remove the unecessary item. \n",
    "\n",
    "##### Note: The`.discard()` method will remove and update the set without the need of reassignment.\n",
    "\n"
   ]
  },
  {
   "cell_type": "code",
   "execution_count": 142,
   "metadata": {},
   "outputs": [
    {
     "name": "stdout",
     "output_type": "stream",
     "text": [
      "14\n",
      "{'flour', 'garlic', 'cucumber', 'milk', 'juice', 'sugar', 'tomatoes', 'water', 'blueberries', 'yogurt', 'onions', 'cherries', 'gums', 'watermelon'}\n"
     ]
    }
   ],
   "source": [
    "# Your code here\n",
    "family_set.discard('toilet paper')\n",
    "print(len(family_set))\n",
    "print(family_set)"
   ]
  },
  {
   "cell_type": "markdown",
   "metadata": {},
   "source": [
    "#### 15.5- Create a set with all the groceries needed to be bought for the house (no repetitions)."
   ]
  },
  {
   "cell_type": "code",
   "execution_count": 143,
   "metadata": {},
   "outputs": [
    {
     "name": "stdout",
     "output_type": "stream",
     "text": [
      "{'flour', 'garlic', 'cucumber', 'milk', 'juice', 'sugar', 'tomatoes', 'water', 'blueberries', 'yogurt', 'onions', 'cherries', 'gums', 'watermelon'}\n"
     ]
    }
   ],
   "source": [
    "# Your code here\n",
    "print(family_set)"
   ]
  },
  {
   "cell_type": "markdown",
   "metadata": {},
   "source": [
    "#### 15.6- The Father said that he could only buy five items this time. So he decided to arbitraly pick wich ones to buy this time.\n",
    "\n",
    "##### Hint: use the `.pop()` method."
   ]
  },
  {
   "cell_type": "code",
   "execution_count": 148,
   "metadata": {},
   "outputs": [
    {
     "name": "stdout",
     "output_type": "stream",
     "text": [
      "5\n",
      "14\n"
     ]
    }
   ],
   "source": [
    "# Your code here\n",
    "while len(father_set)>5:\n",
    "        father_set.pop()\n",
    "        \n",
    "list=[]\n",
    "family_set=set((list))\n",
    "family_set=family_set.union(father_set)\n",
    "family_set=family_set.union(mother_set)\n",
    "family_set=family_set.union(Jo_set)\n",
    "family_set=family_set.union(Carlos_set)\n",
    "family_set=family_set.union(Mattia_set)\n",
    "family_set.discard('toilet paper')\n",
    "print(len(father_set))\n",
    "print(len(family_set))"
   ]
  },
  {
   "cell_type": "code",
   "execution_count": null,
   "metadata": {},
   "outputs": [],
   "source": []
  }
 ],
 "metadata": {
  "kernelspec": {
   "display_name": "Python 3 (ipykernel)",
   "language": "python",
   "name": "python3"
  },
  "language_info": {
   "codemirror_mode": {
    "name": "ipython",
    "version": 3
   },
   "file_extension": ".py",
   "mimetype": "text/x-python",
   "name": "python",
   "nbconvert_exporter": "python",
   "pygments_lexer": "ipython3",
   "version": "3.9.13"
  }
 },
 "nbformat": 4,
 "nbformat_minor": 2
}
